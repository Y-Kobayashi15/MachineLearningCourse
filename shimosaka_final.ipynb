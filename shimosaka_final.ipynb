{
 "cells": [
  {
   "cell_type": "markdown",
   "metadata": {},
   "source": [
    "# 機械学習最終レポート 課題コード"
   ]
  },
  {
   "cell_type": "code",
   "execution_count": 1,
   "metadata": {
    "colab": {},
    "colab_type": "code",
    "id": "fyfdiTizgHzd"
   },
   "outputs": [],
   "source": [
    "# requirements\n",
    "import numpy as np\n",
    "import matplotlib.pyplot as plt\n",
    "import cvxpy as cv"
   ]
  },
  {
   "cell_type": "markdown",
   "metadata": {
    "colab_type": "text",
    "id": "GWpRlNgofk-W"
   },
   "source": [
    "# Datasets"
   ]
  },
  {
   "cell_type": "code",
   "execution_count": 2,
   "metadata": {
    "colab": {
     "base_uri": "https://localhost:8080/",
     "height": 286
    },
    "colab_type": "code",
    "executionInfo": {
     "elapsed": 761,
     "status": "ok",
     "timestamp": 1562583075123,
     "user": {
      "displayName": "Tatsuya Hiraoka",
      "photoUrl": "",
      "userId": "10467761922937069250"
     },
     "user_tz": -540
    },
    "id": "An-Z4VyvgBSk",
    "outputId": "a6b101ce-9ec3-44bc-f25a-2a3c26b76821"
   },
   "outputs": [
    {
     "data": {
      "text/plain": [
       "[<matplotlib.lines.Line2D at 0x1ad2b195b00>]"
      ]
     },
     "execution_count": 2,
     "metadata": {},
     "output_type": "execute_result"
    },
    {
     "data": {
      "image/png": "[encoded data removed]",
      "text/plain": [
       "<matplotlib.figure.Figure at 0x1ad2b195ba8>"
      ]
     },
     "metadata": {
      "needs_background": "light"
     },
     "output_type": "display_data"
    }
   ],
   "source": [
    "# dataset 1\n",
    "np.random.seed(123)\n",
    "n = 100\n",
    "x_d1 = 3 * (np.random.rand(n, 2)-0.5)\n",
    "radius = x_d1[:,0]**2 + x_d1[:,1]**2\n",
    "y_d1 = (radius > 0.7 + 0.1 * np.random.randn(n)) &( radius < 2.2 + 0.1 * np.random.randn(n))\n",
    "y_d1 = 2 * y_d1 -1\n",
    "\n",
    "plt.plot(x_d1[y_d1 < 0, 0],  x_d1[y_d1 < 0, 1], 'bs')\n",
    "plt.plot(x_d1[y_d1 > 0, 0],  x_d1[y_d1 > 0, 1], 'ro')"
   ]
  },
  {
   "cell_type": "code",
   "execution_count": 3,
   "metadata": {
    "colab": {
     "base_uri": "https://localhost:8080/",
     "height": 286
    },
    "colab_type": "code",
    "executionInfo": {
     "elapsed": 1307,
     "status": "ok",
     "timestamp": 1562583075978,
     "user": {
      "displayName": "Tatsuya Hiraoka",
      "photoUrl": "",
      "userId": "10467761922937069250"
     },
     "user_tz": -540
    },
    "id": "lBWTGt52kF8k",
    "outputId": "0ca75699-6c94-4ff6-b95e-cca7c94b5e3c"
   },
   "outputs": [
    {
     "data": {
      "text/plain": [
       "[<matplotlib.lines.Line2D at 0x1ad2d1c6e10>]"
      ]
     },
     "execution_count": 3,
     "metadata": {},
     "output_type": "execute_result"
    },
    {
     "data": {
      "image/png": "[encoded data removed]",
      "text/plain": [
       "<matplotlib.figure.Figure at 0x1ad2d1c6da0>"
      ]
     },
     "metadata": {
      "needs_background": "light"
     },
     "output_type": "display_data"
    }
   ],
   "source": [
    "# dataset 2\n",
    "n = 50\n",
    "omega = np.random.randn()\n",
    "noise = 0.8 * np.random.randn(n)\n",
    "\n",
    "x_d2 = np.random.randn(n, 2) + 0\n",
    "y_d2 = 2 * (omega * x_d2[:,0] + x_d2[:,1] + noise > 0) - 1\n",
    "\n",
    "plt.plot(np.extract(y_d2>0,x_d2[:,0]),np.extract(y_d2>0,x_d2[:,1]), 'x')\n",
    "plt.plot(np.extract(y_d2<0,x_d2[:,0]),np.extract(y_d2<0,x_d2[:,1]), 'o')"
   ]
  },
  {
   "cell_type": "code",
   "execution_count": 4,
   "metadata": {
    "colab": {
     "base_uri": "https://localhost:8080/",
     "height": 286
    },
    "colab_type": "code",
    "executionInfo": {
     "elapsed": 1025,
     "status": "ok",
     "timestamp": 1562583075979,
     "user": {
      "displayName": "Tatsuya Hiraoka",
      "photoUrl": "",
      "userId": "10467761922937069250"
     },
     "user_tz": -540
    },
    "id": "OiAAslhUkM4O",
    "outputId": "d1a83151-ac7b-4dd8-8486-be07c1788b09"
   },
   "outputs": [
    {
     "data": {
      "text/plain": [
       "<matplotlib.collections.PolyCollection at 0x1ad2d2fcb00>"
      ]
     },
     "execution_count": 4,
     "metadata": {},
     "output_type": "execute_result"
    },
    {
     "data": {
      "image/png": "[encoded data removed]",
      "text/plain": [
       "<matplotlib.figure.Figure at 0x1ad2d1bdd68>"
      ]
     },
     "metadata": {
      "needs_background": "light"
     },
     "output_type": "display_data"
    }
   ],
   "source": [
    "#dataset3\n",
    "np.random.seed(1234)\n",
    "m = 20\n",
    "n = 40\n",
    "r = 2\n",
    "A = np.dot(np.random.rand(m, r), np.random.rand(r, n)).flatten()\n",
    "ninc = 100\n",
    "Q = np.random.permutation(m * n)[:ninc]\n",
    "A[Q] = None\n",
    "A = A.reshape(m, n)\n",
    "\n",
    "plt.pcolor(A, cmap=plt.cm.plasma)"
   ]
  },
  {
   "cell_type": "code",
   "execution_count": 5,
   "metadata": {
    "colab": {},
    "colab_type": "code",
    "id": "nw9srB9Q8gsO"
   },
   "outputs": [],
   "source": [
    "# dataset 4\n",
    "n = 200\n",
    "x_d4 = 3 * (np.random.rand(n, 4) - 0.5)\n",
    "y_d4 = (2 * x_d4[:, 0] - 1 * x_d4[:,1] + 0.5 + 0.5 * np.random.randn(n)) > 0\n",
    "y_d4 = 2 * y_d4 -1"
   ]
  },
  {
   "cell_type": "code",
   "execution_count": 6,
   "metadata": {
    "colab": {},
    "colab_type": "code",
    "id": "fUxJDZON9n9V"
   },
   "outputs": [],
   "source": [
    "# dataset 5\n",
    "n = 200\n",
    "x_d5 = 3 * (np.random.rand(n, 4) - 0.5)\n",
    "W = np.array([[ 2,  -1, 0.5,],\n",
    "              [-3,   2,   1,],\n",
    "              [ 1,   2,   3]])\n",
    "y_d5 = np.argmax(np.dot(np.hstack([x_d5[:,:2], np.ones((n, 1))]), W.T)\n",
    "                        + 0.5 * np.random.randn(n, 3), axis=1)"
   ]
  },
  {
   "cell_type": "code",
   "execution_count": 7,
   "metadata": {
    "colab": {},
    "colab_type": "code",
    "id": "R-BExPFuCr4-"
   },
   "outputs": [],
   "source": [
    "# dataset 6\n",
    "d_d6 = 200\n",
    "n_d6 = 180\n",
    "\n",
    "# we consider 5 groups where each group has 40 attributes\n",
    "groupSize = 5\n",
    "attrSize = 40\n",
    "g_d6 = np.arange(groupSize*attrSize).reshape(groupSize,-1)\n",
    "\n",
    "x_d6 = np.random.randn(n_d6, d_d6)\n",
    "noise_d6 = 0.5\n",
    "\n",
    "# we consider feature in group 1 and group 2 is activated.\n",
    "w_d6 = np.vstack([20 * np.random.randn(80, 1),\n",
    "                 np.zeros((120, 1)),\n",
    "                 5 * np.random.rand()])\n",
    "x_d6_tilde = np.hstack([x_d6, np.ones((n_d6, 1))])\n",
    "y_d6 = np.dot(x_d6_tilde, w_d6) + noise_d6 * np.random.randn(n_d6, 1)"
   ]
  },
  {
   "cell_type": "markdown",
   "metadata": {
    "colab_type": "text",
    "id": "IrhDZAmp8DlM"
   },
   "source": [
    "# Problem 1"
   ]
  },
  {
   "cell_type": "code",
   "execution_count": 8,
   "metadata": {
    "colab": {
     "base_uri": "https://localhost:8080/",
     "height": 287
    },
    "colab_type": "code",
    "executionInfo": {
     "elapsed": 1562,
     "status": "ok",
     "timestamp": 1560424442235,
     "user": {
      "displayName": "Tatsuya Hiraoka",
      "photoUrl": "",
      "userId": "10467761922937069250"
     },
     "user_tz": -540
    },
    "id": "xONF7HSY8B_R",
    "outputId": "7f069210-e1c8-4681-fea7-074900cf4ea3"
   },
   "outputs": [],
   "source": [
    "# requirement\n",
    "import numpy as np\n",
    "import matplotlib.pyplot as plt\n",
    "import cvxpy\n",
    "import copy"
   ]
  },
  {
   "cell_type": "code",
   "execution_count": 17,
   "metadata": {},
   "outputs": [],
   "source": [
    "lambda_ = 100\n",
    "\n",
    "#データセット\n",
    "inputData = copy.deepcopy(x_d4)\n",
    "outputData = copy.deepcopy(y_d4)\n",
    "\n",
    "#パラメータの次元数\n",
    "dim = len(inputData[0])\n",
    "\n",
    "#学習率\n",
    "eta = 0.001\n",
    "#更新回数\n",
    "updateNum = 100\n",
    "\n",
    "def J(y, x, w):\n",
    "    sumTemp = 0.0\n",
    "    for i in range(len(y)):\n",
    "        sumTemp += np.log(1.0 + np.exp(-y[i] * np.dot(w.T, x[i])))\n",
    "\n",
    "    return sumTemp + lambda_ * np.dot(w.T, w)\n",
    "\n",
    "#Jの勾配\n",
    "def gradJ(y, x, w):\n",
    "    sumTemp = np.zeros(dim)\n",
    "    for i in range(len(y)):\n",
    "        temp = np.exp(-y[i] * np.dot(w.T, x[i]))\n",
    "        sumTemp += (-y[i] * temp * x[i]) / (1.0 + temp)\n",
    "    \n",
    "    return sumTemp + 2.0 * lambda_ * w\n",
    "\n",
    "#Jのヘッセ行列\n",
    "def HofJ(y, x, w):\n",
    "    sumTemp = np.zeros((dim, dim))\n",
    "    for i in range(len(y)):\n",
    "        temp = np.exp(-y[i] * np.dot(w.T, x[i]))\n",
    "        sumTemp += (temp / (1.0 + temp)**2) * np.dot(x[i], x[i].T)\n",
    "        \n",
    "    return sumTemp + 2.0 * lambda_ * np.eye(dim)"
   ]
  },
  {
   "cell_type": "markdown",
   "metadata": {},
   "source": [
    "## 1."
   ]
  },
  {
   "cell_type": "code",
   "execution_count": 18,
   "metadata": {
    "colab": {},
    "colab_type": "code",
    "id": "Z8Zc2Z5u-NTp"
   },
   "outputs": [],
   "source": [
    "loss_hist_batch = [] # to store the history of loss J(w_t)\n",
    "\n",
    "# implement batch steepest gradient method here\n",
    "np.random.seed(1) #シードを固定        \n",
    "w = np.random.randn(dim)\n",
    "\n",
    "#最急降下法によるパラメータの更新\n",
    "for iterNum in range(updateNum):\n",
    "    w = w - eta * gradJ(outputData, inputData, w)\n",
    "    loss_hist_batch.append(J(outputData, inputData, w))"
   ]
  },
  {
   "cell_type": "markdown",
   "metadata": {},
   "source": [
    "## 2."
   ]
  },
  {
   "cell_type": "code",
   "execution_count": 19,
   "metadata": {
    "colab": {},
    "colab_type": "code",
    "id": "X42JKvHsDptm"
   },
   "outputs": [],
   "source": [
    "loss_hist_newton = [] # to store the history of loss J(w_t)\n",
    "\n",
    "# implement Newton based method here\n",
    "np.random.seed(1) #シードを固定\n",
    "w_newton = np.random.randn(dim)\n",
    "\n",
    "#ニュートン法によるパラメータの更新\n",
    "for iterNum in range(updateNum):\n",
    "    w_newton = w_newton - np.dot(np.linalg.inv(HofJ(outputData, inputData, w_newton)), gradJ(outputData, inputData, w_newton))\n",
    "    loss_hist_newton.append(J(outputData, inputData, w_newton))"
   ]
  },
  {
   "cell_type": "markdown",
   "metadata": {},
   "source": [
    "## 3."
   ]
  },
  {
   "cell_type": "code",
   "execution_count": 20,
   "metadata": {
    "colab": {},
    "colab_type": "code",
    "id": "p1dl5DU_9p5m"
   },
   "outputs": [
    {
     "data": {
      "image/png": "[encoded data removed]",
      "text/plain": [
       "<matplotlib.figure.Figure at 0x1ad2e5b6240>"
      ]
     },
     "metadata": {
      "needs_background": "light"
     },
     "output_type": "display_data"
    }
   ],
   "source": [
    "# plot the result\n",
    "plt.plot(loss_hist_batch - J(outputData, inputData, w), label='Steepest gradient method')\n",
    "plt.plot(loss_hist_newton - J(outputData, inputData, w_newton), label='Newton method')\n",
    "plt.legend()\n",
    "plt.yscale('log')"
   ]
  },
  {
   "cell_type": "markdown",
   "metadata": {},
   "source": [
    "## 4."
   ]
  },
  {
   "cell_type": "code",
   "execution_count": 22,
   "metadata": {},
   "outputs": [],
   "source": [
    "lambda_ = 100\n",
    "\n",
    "#データセット\n",
    "inputData = copy.deepcopy(x_d5)\n",
    "outputData = copy.deepcopy(y_d5)\n",
    "\n",
    "#パラメータの次元数\n",
    "dim = len(inputData[0])\n",
    "#学習率\n",
    "eta = 0.001\n",
    "#更新回数\n",
    "updateNum = 100"
   ]
  },
  {
   "cell_type": "code",
   "execution_count": 23,
   "metadata": {},
   "outputs": [],
   "source": [
    "loss_hist_batch = [] # to store the history of loss J(w_t)\n",
    "\n",
    "# implement batch steepest gradient method here\n",
    "np.random.seed(1) #シードを固定        \n",
    "w = np.random.randn(dim)\n",
    "\n",
    "#最急降下法によるパラメータの更新\n",
    "for iterNum in range(updateNum):\n",
    "    w = w - eta * gradJ(outputData, inputData, w)\n",
    "    loss_hist_batch.append(J(outputData, inputData, w))"
   ]
  },
  {
   "cell_type": "code",
   "execution_count": 24,
   "metadata": {},
   "outputs": [],
   "source": [
    "loss_hist_newton = [] # to store the history of loss J(w_t)\n",
    "\n",
    "# implement Newton based method here\n",
    "np.random.seed(1) #シードを固定\n",
    "w_newton = np.random.randn(dim)\n",
    "\n",
    "#ニュートン法によるパラメータの更新\n",
    "for iterNum in range(updateNum):\n",
    "    w_newton = w_newton - np.dot(np.linalg.inv(HofJ(outputData, inputData, w_newton)), gradJ(outputData, inputData, w_newton))\n",
    "    loss_hist_newton.append(J(outputData, inputData, w_newton))"
   ]
  },
  {
   "cell_type": "code",
   "execution_count": 25,
   "metadata": {},
   "outputs": [
    {
     "data": {
      "image/png": "[encoded data removed]",
      "text/plain": [
       "<matplotlib.figure.Figure at 0x1ad2e6ada90>"
      ]
     },
     "metadata": {
      "needs_background": "light"
     },
     "output_type": "display_data"
    }
   ],
   "source": [
    "# plot the result\n",
    "plt.plot(loss_hist_batch - J(outputData, inputData, w), label='Steepest gradient method')\n",
    "plt.plot(loss_hist_newton - J(outputData, inputData, w_newton), label='Newton method')\n",
    "plt.legend()\n",
    "plt.yscale('log')"
   ]
  }
 ],
 "metadata": {
  "colab": {
   "collapsed_sections": [],
   "name": "shimosaka_final.ipynb",
   "provenance": [],
   "version": "0.3.2"
  },
  "kernelspec": {
   "display_name": "Python 3",
   "language": "python",
   "name": "python3"
  },
  "language_info": {
   "codemirror_mode": {
    "name": "ipython",
    "version": 3
   },
   "file_extension": ".py",
   "mimetype": "text/x-python",
   "name": "python",
   "nbconvert_exporter": "python",
   "pygments_lexer": "ipython3",
   "version": "3.6.4"
  }
 },
 "nbformat": 4,
 "nbformat_minor": 1
}
